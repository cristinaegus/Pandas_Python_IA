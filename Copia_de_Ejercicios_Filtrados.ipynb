{
  "nbformat": 4,
  "nbformat_minor": 0,
  "metadata": {
    "colab": {
      "provenance": [],
      "include_colab_link": true
    },
    "kernelspec": {
      "name": "python3",
      "display_name": "Python 3"
    },
    "language_info": {
      "name": "python"
    }
  },
  "cells": [
    {
      "cell_type": "markdown",
      "metadata": {
        "id": "view-in-github",
        "colab_type": "text"
      },
      "source": [
        "<a href=\"https://colab.research.google.com/github/cristinaegus/Pandas_Python_IA/blob/main/Copia_de_Ejercicios_Filtrados.ipynb\" target=\"_parent\"><img src=\"https://colab.research.google.com/assets/colab-badge.svg\" alt=\"Open In Colab\"/></a>"
      ]
    },
    {
      "cell_type": "markdown",
      "source": [
        "# Ejercicios filtrados"
      ],
      "metadata": {
        "id": "YjcGbRzQf9Lv"
      }
    },
    {
      "cell_type": "code",
      "execution_count": 5,
      "metadata": {
        "id": "ZZMJk5PHf4by"
      },
      "outputs": [],
      "source": [
        "import pandas as pd"
      ]
    },
    {
      "cell_type": "code",
      "source": [
        "import os\n",
        "os.chdir(\"/content/sample_data\")"
      ],
      "metadata": {
        "id": "qUisgJwxgMgO"
      },
      "execution_count": 6,
      "outputs": []
    },
    {
      "cell_type": "markdown",
      "source": [
        "# Cargar los DataFrames catas_vino1 y catas_vino2"
      ],
      "metadata": {
        "id": "Wpy_4WHhGCny"
      }
    },
    {
      "cell_type": "code",
      "source": [
        "import pandas as pd\n",
        "\n",
        "catas_vino1 = pd.read_csv(\"/content/sample_data/catas_vino1.csv\", sep=';')\n",
        "catas_vino2 = pd.read_csv(\"/content/sample_data/catas_vino2.csv\", sep=';')\n",
        "\n",
        "print(catas_vino1)\n",
        "print(catas_vino2)\n"
      ],
      "metadata": {
        "id": "q-1xYlahG4cU",
        "colab": {
          "base_uri": "https://localhost:8080/"
        },
        "outputId": "614c9e8f-0298-41ae-8a02-d0c75fc92d2e"
      },
      "execution_count": 10,
      "outputs": [
        {
          "output_type": "stream",
          "name": "stdout",
          "text": [
            "      citric acid  residual sugar  chlorides  free sulfur dioxide  \\\n",
            "0            0.40             6.1      0.034                 36.0   \n",
            "1            0.51             2.0      0.046                 11.0   \n",
            "2            0.38            10.5      0.031                 53.0   \n",
            "3            0.30             5.0      0.040                 40.0   \n",
            "4            0.26             1.4      0.041                 40.0   \n",
            "...           ...             ...        ...                  ...   \n",
            "3276         0.52             6.5      0.047                 28.0   \n",
            "3277         0.32             9.0      0.039                 54.0   \n",
            "3278         0.52             3.2      0.043                 28.0   \n",
            "3279         0.29            13.7      0.035                 53.0   \n",
            "3280         0.35             1.7      0.030                 38.0   \n",
            "\n",
            "      total sulfur dioxide  density    pH  sulphates  alcohol  quality  taste  \n",
            "0                    118.0  0.99144  3.21       0.43     12.1        7   3167  \n",
            "1                    207.0  0.99300  3.02       0.55     11.4        5    324  \n",
            "2                    140.0  0.99321  3.34       0.46     11.7        6   4731  \n",
            "3                    143.0  0.99173  3.33       0.42     12.2        7   2305  \n",
            "4                    141.0  0.99410  3.34       0.72      9.5        6   1777  \n",
            "...                    ...      ...   ...        ...      ...      ...    ...  \n",
            "3276                 123.0  0.99418  3.22       0.49      9.9        6   4426  \n",
            "3277                 141.0  0.99560  3.22       0.43      9.4        6    466  \n",
            "3278                 152.0  0.99129  3.02       0.53     11.4        6   3092  \n",
            "3279                 134.0  0.99567  3.17       0.38     10.6        6   3772  \n",
            "3280                 103.0  0.99255  3.22       0.63     10.4        8    860  \n",
            "\n",
            "[3281 rows x 11 columns]\n",
            "      fixed acidity  volatile acidity  citric acid  residual sugar  chlorides  \\\n",
            "0               7.5              0.29         0.36            15.7      0.050   \n",
            "1               6.9              0.42         0.20            15.4      0.043   \n",
            "2               7.6              0.28         0.39             1.9      0.052   \n",
            "3               6.9              0.22         0.37            15.0      0.053   \n",
            "4               7.1              0.23         0.39             1.6      0.032   \n",
            "...             ...               ...          ...             ...        ...   \n",
            "3276            6.8              0.25         0.38             8.1      0.046   \n",
            "3277            6.1              0.22         0.46             1.8      0.160   \n",
            "3278            6.8              0.26         0.46             8.3      0.037   \n",
            "3279            6.6              0.22         0.28             4.9      0.042   \n",
            "3280            6.0              0.27         0.40             1.7      0.021   \n",
            "\n",
            "      free sulfur dioxide  total sulfur dioxide    alcohol  quality  taste  \n",
            "0                    29.0                 124.0  10.400000        5   3320  \n",
            "1                    57.0                 201.0   9.400000        5   4271  \n",
            "2                    23.0                 116.0  10.400000        6   1370  \n",
            "3                    59.0                 178.0   9.500000        7    782  \n",
            "4                    12.0                  65.0  12.700000        7    491  \n",
            "...                   ...                   ...        ...      ...    ...  \n",
            "3276                 24.0                 155.0  10.200000        6    826  \n",
            "3277                 34.0                  74.0  13.400000        6   3735  \n",
            "3278                 49.0                 173.0   9.300000        5   2942  \n",
            "3279                 51.0                 180.0   9.500000        6   2064  \n",
            "3280                 18.0                  82.0  13.133333        6   4818  \n",
            "\n",
            "[3281 rows x 10 columns]\n"
          ]
        }
      ]
    },
    {
      "cell_type": "code",
      "source": [
        "# hacer un sort index en las dos tablas catas1 y catas2\n",
        "catas_vino1 = catas_vino1.sort_index()\n",
        "catas_vino2 = catas_vino2.sort_index()\n",
        "\n",
        "print(catas_vino1)\n",
        "print(catas_vino2)\n"
      ],
      "metadata": {
        "colab": {
          "base_uri": "https://localhost:8080/"
        },
        "id": "BTyboeLcYvIB",
        "outputId": "f1705cf2-2d84-4823-d420-fc6cdc69de5f"
      },
      "execution_count": 19,
      "outputs": [
        {
          "output_type": "stream",
          "name": "stdout",
          "text": [
            "       citric acid  residual sugar  chlorides  free sulfur dioxide  \\\n",
            "taste                                                                \n",
            "0             0.36           20.70      0.045                 45.0   \n",
            "1             0.34            1.60      0.049                 14.0   \n",
            "2             0.40            6.90      0.050                 30.0   \n",
            "3             0.32            8.50      0.058                 47.0   \n",
            "4             0.32            8.50      0.058                 47.0   \n",
            "...            ...             ...        ...                  ...   \n",
            "4888          0.36            1.20      0.052                 38.0   \n",
            "4889          0.27           11.75      0.030                 34.0   \n",
            "4890          0.29            2.20      0.036                 25.0   \n",
            "4892          0.38            1.30      0.032                 29.0   \n",
            "4895          0.19            1.20      0.041                 30.0   \n",
            "\n",
            "       total sulfur dioxide  density    pH  sulphates  alcohol  quality  \n",
            "taste                                                                    \n",
            "0                     170.0  1.00100  3.00       0.45      8.8        6  \n",
            "1                     132.0  0.99400  3.30       0.49      9.5        6  \n",
            "2                      97.0  0.99510  3.26       0.44     10.1        6  \n",
            "3                     186.0  0.99560  3.19       0.40      9.9        6  \n",
            "4                     186.0  0.99560  3.19       0.40      9.9        6  \n",
            "...                     ...      ...   ...        ...      ...      ...  \n",
            "4888                  127.0  0.99330  3.04       0.54      9.2        5  \n",
            "4889                  118.0  0.99540  3.07       0.50      9.4        6  \n",
            "4890                  100.0  0.98938  3.06       0.44     11.8        6  \n",
            "4892                  112.0  0.99298  3.29       0.54      9.7        5  \n",
            "4895                  111.0  0.99254  2.99       0.46      9.4        6  \n",
            "\n",
            "[3281 rows x 10 columns]\n",
            "       fixed acidity  volatile acidity  citric acid  residual sugar  \\\n",
            "taste                                                                 \n",
            "1                6.3              0.30         0.34             1.6   \n",
            "2                8.1              0.28         0.40             6.9   \n",
            "5                8.1              0.28         0.40             6.9   \n",
            "6                6.2              0.32         0.16             7.0   \n",
            "9                8.1              0.22         0.43             1.5   \n",
            "...              ...               ...          ...             ...   \n",
            "4892             6.5              0.23         0.38             1.3   \n",
            "4893             6.2              0.21         0.29             1.6   \n",
            "4894             6.6              0.32         0.36             8.0   \n",
            "4896             5.5              0.29         0.30             1.1   \n",
            "4897             6.0              0.21         0.38             0.8   \n",
            "\n",
            "       chlorides  free sulfur dioxide  total sulfur dioxide  alcohol  quality  \n",
            "taste                                                                          \n",
            "1          0.049                 14.0                 132.0      9.5        6  \n",
            "2          0.050                 30.0                  97.0     10.1        6  \n",
            "5          0.050                 30.0                  97.0     10.1        6  \n",
            "6          0.045                 30.0                 136.0      9.6        6  \n",
            "9          0.044                 28.0                 129.0     11.0        6  \n",
            "...          ...                  ...                   ...      ...      ...  \n",
            "4892       0.032                 29.0                 112.0      9.7        5  \n",
            "4893       0.039                 24.0                  92.0     11.2        6  \n",
            "4894       0.047                 57.0                 168.0      9.6        5  \n",
            "4896       0.022                 20.0                 110.0     12.8        7  \n",
            "4897       0.020                 22.0                  98.0     11.8        6  \n",
            "\n",
            "[3281 rows x 9 columns]\n"
          ]
        }
      ]
    },
    {
      "cell_type": "markdown",
      "source": [
        "## Colocar la columna taste como índice de ambas tablas"
      ],
      "metadata": {
        "id": "YTGngPFOnen-"
      }
    },
    {
      "cell_type": "code",
      "source": [
        "# coloca la columna taste como indice de ambas tablas\n",
        "catas_vino1.set_index('taste', inplace=True)\n",
        "catas_vino2.set_index('taste', inplace=True)\n",
        "\n",
        "print(catas_vino1)\n",
        "print(catas_vino2)"
      ],
      "metadata": {
        "id": "XXnluj70G4Iz",
        "colab": {
          "base_uri": "https://localhost:8080/"
        },
        "outputId": "d611b2ac-d346-47c0-b240-439bced0c886"
      },
      "execution_count": 11,
      "outputs": [
        {
          "output_type": "stream",
          "name": "stdout",
          "text": [
            "       citric acid  residual sugar  chlorides  free sulfur dioxide  \\\n",
            "taste                                                                \n",
            "3167          0.40             6.1      0.034                 36.0   \n",
            "324           0.51             2.0      0.046                 11.0   \n",
            "4731          0.38            10.5      0.031                 53.0   \n",
            "2305          0.30             5.0      0.040                 40.0   \n",
            "1777          0.26             1.4      0.041                 40.0   \n",
            "...            ...             ...        ...                  ...   \n",
            "4426          0.52             6.5      0.047                 28.0   \n",
            "466           0.32             9.0      0.039                 54.0   \n",
            "3092          0.52             3.2      0.043                 28.0   \n",
            "3772          0.29            13.7      0.035                 53.0   \n",
            "860           0.35             1.7      0.030                 38.0   \n",
            "\n",
            "       total sulfur dioxide  density    pH  sulphates  alcohol  quality  \n",
            "taste                                                                    \n",
            "3167                  118.0  0.99144  3.21       0.43     12.1        7  \n",
            "324                   207.0  0.99300  3.02       0.55     11.4        5  \n",
            "4731                  140.0  0.99321  3.34       0.46     11.7        6  \n",
            "2305                  143.0  0.99173  3.33       0.42     12.2        7  \n",
            "1777                  141.0  0.99410  3.34       0.72      9.5        6  \n",
            "...                     ...      ...   ...        ...      ...      ...  \n",
            "4426                  123.0  0.99418  3.22       0.49      9.9        6  \n",
            "466                   141.0  0.99560  3.22       0.43      9.4        6  \n",
            "3092                  152.0  0.99129  3.02       0.53     11.4        6  \n",
            "3772                  134.0  0.99567  3.17       0.38     10.6        6  \n",
            "860                   103.0  0.99255  3.22       0.63     10.4        8  \n",
            "\n",
            "[3281 rows x 10 columns]\n",
            "       fixed acidity  volatile acidity  citric acid  residual sugar  \\\n",
            "taste                                                                 \n",
            "3320             7.5              0.29         0.36            15.7   \n",
            "4271             6.9              0.42         0.20            15.4   \n",
            "1370             7.6              0.28         0.39             1.9   \n",
            "782              6.9              0.22         0.37            15.0   \n",
            "491              7.1              0.23         0.39             1.6   \n",
            "...              ...               ...          ...             ...   \n",
            "826              6.8              0.25         0.38             8.1   \n",
            "3735             6.1              0.22         0.46             1.8   \n",
            "2942             6.8              0.26         0.46             8.3   \n",
            "2064             6.6              0.22         0.28             4.9   \n",
            "4818             6.0              0.27         0.40             1.7   \n",
            "\n",
            "       chlorides  free sulfur dioxide  total sulfur dioxide    alcohol  \\\n",
            "taste                                                                    \n",
            "3320       0.050                 29.0                 124.0  10.400000   \n",
            "4271       0.043                 57.0                 201.0   9.400000   \n",
            "1370       0.052                 23.0                 116.0  10.400000   \n",
            "782        0.053                 59.0                 178.0   9.500000   \n",
            "491        0.032                 12.0                  65.0  12.700000   \n",
            "...          ...                  ...                   ...        ...   \n",
            "826        0.046                 24.0                 155.0  10.200000   \n",
            "3735       0.160                 34.0                  74.0  13.400000   \n",
            "2942       0.037                 49.0                 173.0   9.300000   \n",
            "2064       0.042                 51.0                 180.0   9.500000   \n",
            "4818       0.021                 18.0                  82.0  13.133333   \n",
            "\n",
            "       quality  \n",
            "taste           \n",
            "3320         5  \n",
            "4271         5  \n",
            "1370         6  \n",
            "782          7  \n",
            "491          7  \n",
            "...        ...  \n",
            "826          6  \n",
            "3735         6  \n",
            "2942         5  \n",
            "2064         6  \n",
            "4818         6  \n",
            "\n",
            "[3281 rows x 9 columns]\n"
          ]
        }
      ]
    },
    {
      "cell_type": "markdown",
      "source": [
        "## Determinar qué columnas están presentes en catas1 y no en catas2 y viceversa."
      ],
      "metadata": {
        "id": "iTSJ2Jp4o_Yp"
      }
    },
    {
      "cell_type": "code",
      "source": [
        "#determina que columnas estana presentes en cata1 y no en cata 2 y viceversa\n",
        "columnas_cata1_no_cata2 = catas_vino1.columns[~catas_vino1.columns.isin(catas_vino2.columns)]\n",
        "columnas_cata2_no_cata1 = catas_vino2.columns[~catas_vino2.columns.isin(catas_vino1.columns)]\n",
        "\n",
        "print(\"Columnas presentes en catas1 y no en catas2:\", columnas_cata1_no_cata2)\n",
        "print(\"Columnas presentes en catas2 y no en catas1:\", columnas_cata2_no_cata1)"
      ],
      "metadata": {
        "id": "vfWgyqxXG34L",
        "colab": {
          "base_uri": "https://localhost:8080/"
        },
        "outputId": "9dfce906-2e5c-46a5-d13a-88c044ec463e"
      },
      "execution_count": 12,
      "outputs": [
        {
          "output_type": "stream",
          "name": "stdout",
          "text": [
            "Columnas presentes en catas1 y no en catas2: Index(['density', 'pH', 'sulphates'], dtype='object')\n",
            "Columnas presentes en catas2 y no en catas1: Index(['fixed acidity', 'volatile acidity'], dtype='object')\n"
          ]
        }
      ]
    },
    {
      "cell_type": "markdown",
      "source": [
        "## Determinar qué columnas están presentes en ambas tablas."
      ],
      "metadata": {
        "id": "ZRE8ZihGpSyL"
      }
    },
    {
      "cell_type": "code",
      "source": [
        "# Determina que columnas estan presentes en ambas tablas\n",
        "columnas_presentes_ambas = catas_vino1.columns[catas_vino1.columns.isin(catas_vino2.columns)]\n",
        "\n",
        "print(\"Columnas presentes en ambas tablas:\", columnas_presentes_ambas)"
      ],
      "metadata": {
        "id": "lv1Yq_RMG3TE",
        "colab": {
          "base_uri": "https://localhost:8080/"
        },
        "outputId": "3b715339-117d-4b25-e729-bd967a9d7304"
      },
      "execution_count": 13,
      "outputs": [
        {
          "output_type": "stream",
          "name": "stdout",
          "text": [
            "Columnas presentes en ambas tablas: Index(['citric acid', 'residual sugar', 'chlorides', 'free sulfur dioxide',\n",
            "       'total sulfur dioxide', 'alcohol', 'quality'],\n",
            "      dtype='object')\n"
          ]
        }
      ]
    },
    {
      "cell_type": "markdown",
      "source": [
        "## Determinar qué filas están presentes en catas1 y no en catas2 y viceversa."
      ],
      "metadata": {
        "id": "jM9jJ9XLntqS"
      }
    },
    {
      "cell_type": "code",
      "source": [
        "# Dtermina que filas estan presentes en cata 1 y no en cata 2 y viceversa\n",
        "filas_cata1_no_cata2 = catas_vino1.index[~catas_vino1.index.isin(catas_vino2.index)]\n",
        "filas_cata2_no_cata1 = catas_vino2.index[~catas_vino2.index.isin(catas_vino1.index)]\n",
        "\n",
        "print(\"Filas presentes en catas1 y no en catas2:\", filas_cata1_no_cata2)\n",
        "print(\"Filas presentes en catas2 y no en catas1:\", filas_cata2_no_cata1)\n",
        "\n"
      ],
      "metadata": {
        "id": "iH9VIhNHG2-2",
        "colab": {
          "base_uri": "https://localhost:8080/"
        },
        "outputId": "a0cb3bc7-40a8-498d-d9d7-479d2aff4f9e"
      },
      "execution_count": 15,
      "outputs": [
        {
          "output_type": "stream",
          "name": "stdout",
          "text": [
            "Filas presentes en catas1 y no en catas2: Index([1498, 1502, 1006, 3666, 3837, 1216,  932,  439,  678, 4542,\n",
            "       ...\n",
            "       3461, 1478, 2824, 2435, 3005, 2734,  975, 2904, 4117, 4555],\n",
            "      dtype='int64', name='taste', length=1065)\n",
            "Filas presentes en catas2 y no en catas1: Index([3320, 1370,  491,  602, 2201, 4516, 2788,  108, 3362, 3501,\n",
            "       ...\n",
            "       3960, 2927, 3427, 1718, 3796, 1393, 1436, 1617, 2706, 2942],\n",
            "      dtype='int64', name='taste', length=1065)\n"
          ]
        }
      ]
    },
    {
      "cell_type": "markdown",
      "source": [
        "## Determinar qué filas están presentes en ambas tablas."
      ],
      "metadata": {
        "id": "DxGvfFKCoZYd"
      }
    },
    {
      "cell_type": "code",
      "source": [
        "# determina que filas estan presentes en ambas tablas\n",
        "filas_presentes_ambas = catas_vino1.index[catas_vino1.index.isin(catas_vino2.index)]\n",
        "\n",
        "print(\"Filas presentes en ambas tablas:\", filas_presentes_ambas)"
      ],
      "metadata": {
        "id": "SS7baSGEG2sw",
        "colab": {
          "base_uri": "https://localhost:8080/"
        },
        "outputId": "c8c0b2d5-caf4-42ec-b19b-afc843b4ccc8"
      },
      "execution_count": 16,
      "outputs": [
        {
          "output_type": "stream",
          "name": "stdout",
          "text": [
            "Filas presentes en ambas tablas: Index([3167,  324, 4731, 2305, 1777, 3185, 2929, 4112, 3418, 1467,\n",
            "       ...\n",
            "       1685,  130, 2919, 3171, 3444, 4426,  466, 3092, 3772,  860],\n",
            "      dtype='int64', name='taste', length=2216)\n"
          ]
        }
      ]
    },
    {
      "cell_type": "markdown",
      "source": [
        "## Filtrar las filas de catas1 para las que tenemos datos en catas2"
      ],
      "metadata": {
        "id": "fH3XiqB6qUI5"
      }
    },
    {
      "cell_type": "code",
      "source": [
        "# Filtrar las filas de catas 1 para las que tenemos datos en catas2\n",
        "filas_filtradas = catas_vino1.loc[catas_vino1.index.isin(catas_vino2.index)]\n",
        "\n",
        "print(filas_filtradas)"
      ],
      "metadata": {
        "id": "ErcZ3Sn_G2O1",
        "colab": {
          "base_uri": "https://localhost:8080/"
        },
        "outputId": "2744b4a3-0e4b-4fc9-bbff-f417e92c507c"
      },
      "execution_count": 17,
      "outputs": [
        {
          "output_type": "stream",
          "name": "stdout",
          "text": [
            "       citric acid  residual sugar  chlorides  free sulfur dioxide  \\\n",
            "taste                                                                \n",
            "3167          0.40             6.1      0.034                 36.0   \n",
            "324           0.51             2.0      0.046                 11.0   \n",
            "4731          0.38            10.5      0.031                 53.0   \n",
            "2305          0.30             5.0      0.040                 40.0   \n",
            "1777          0.26             1.4      0.041                 40.0   \n",
            "...            ...             ...        ...                  ...   \n",
            "4426          0.52             6.5      0.047                 28.0   \n",
            "466           0.32             9.0      0.039                 54.0   \n",
            "3092          0.52             3.2      0.043                 28.0   \n",
            "3772          0.29            13.7      0.035                 53.0   \n",
            "860           0.35             1.7      0.030                 38.0   \n",
            "\n",
            "       total sulfur dioxide  density    pH  sulphates  alcohol  quality  \n",
            "taste                                                                    \n",
            "3167                  118.0  0.99144  3.21       0.43     12.1        7  \n",
            "324                   207.0  0.99300  3.02       0.55     11.4        5  \n",
            "4731                  140.0  0.99321  3.34       0.46     11.7        6  \n",
            "2305                  143.0  0.99173  3.33       0.42     12.2        7  \n",
            "1777                  141.0  0.99410  3.34       0.72      9.5        6  \n",
            "...                     ...      ...   ...        ...      ...      ...  \n",
            "4426                  123.0  0.99418  3.22       0.49      9.9        6  \n",
            "466                   141.0  0.99560  3.22       0.43      9.4        6  \n",
            "3092                  152.0  0.99129  3.02       0.53     11.4        6  \n",
            "3772                  134.0  0.99567  3.17       0.38     10.6        6  \n",
            "860                   103.0  0.99255  3.22       0.63     10.4        8  \n",
            "\n",
            "[2216 rows x 10 columns]\n"
          ]
        }
      ]
    },
    {
      "cell_type": "markdown",
      "source": [
        "## Comprobar si la calidad de las catas que están presentes en catas2 pero no en catas1 es mayor o menor que la calidad de las de catas1"
      ],
      "metadata": {
        "id": "bEpmye6Bq_WN"
      }
    },
    {
      "cell_type": "code",
      "source": [
        "catas_vino1['quality'].mean()"
      ],
      "metadata": {
        "colab": {
          "base_uri": "https://localhost:8080/"
        },
        "id": "SV91epUNaX2Z",
        "outputId": "5260eed0-d405-4527-d9f6-713b842e0370"
      },
      "execution_count": 20,
      "outputs": [
        {
          "output_type": "execute_result",
          "data": {
            "text/plain": [
              "np.float64(5.868637610484608)"
            ]
          },
          "metadata": {},
          "execution_count": 20
        }
      ]
    },
    {
      "cell_type": "code",
      "source": [
        "catas_vino2['quality'].mean()\n"
      ],
      "metadata": {
        "colab": {
          "base_uri": "https://localhost:8080/"
        },
        "id": "AUaw5IVOan7g",
        "outputId": "9aa978e7-1df2-49ac-e099-419b807a645a"
      },
      "execution_count": 21,
      "outputs": [
        {
          "output_type": "execute_result",
          "data": {
            "text/plain": [
              "np.float64(5.870466321243524)"
            ]
          },
          "metadata": {},
          "execution_count": 21
        }
      ]
    },
    {
      "cell_type": "code",
      "source": [
        "# comprobar si la calidad de las catas que estan presentes en catas2 pero no en catas1 es mayor o menor que la calidad de las catas1\n",
        "filas_filtradas\n"
      ],
      "metadata": {
        "id": "aZtwXGnkG1z0",
        "colab": {
          "base_uri": "https://localhost:8080/",
          "height": 455
        },
        "outputId": "d695254e-8ba6-456e-91d3-4c539ac9dbde"
      },
      "execution_count": 18,
      "outputs": [
        {
          "output_type": "execute_result",
          "data": {
            "text/plain": [
              "       citric acid  residual sugar  chlorides  free sulfur dioxide  \\\n",
              "taste                                                                \n",
              "3167          0.40             6.1      0.034                 36.0   \n",
              "324           0.51             2.0      0.046                 11.0   \n",
              "4731          0.38            10.5      0.031                 53.0   \n",
              "2305          0.30             5.0      0.040                 40.0   \n",
              "1777          0.26             1.4      0.041                 40.0   \n",
              "...            ...             ...        ...                  ...   \n",
              "4426          0.52             6.5      0.047                 28.0   \n",
              "466           0.32             9.0      0.039                 54.0   \n",
              "3092          0.52             3.2      0.043                 28.0   \n",
              "3772          0.29            13.7      0.035                 53.0   \n",
              "860           0.35             1.7      0.030                 38.0   \n",
              "\n",
              "       total sulfur dioxide  density    pH  sulphates  alcohol  quality  \n",
              "taste                                                                    \n",
              "3167                  118.0  0.99144  3.21       0.43     12.1        7  \n",
              "324                   207.0  0.99300  3.02       0.55     11.4        5  \n",
              "4731                  140.0  0.99321  3.34       0.46     11.7        6  \n",
              "2305                  143.0  0.99173  3.33       0.42     12.2        7  \n",
              "1777                  141.0  0.99410  3.34       0.72      9.5        6  \n",
              "...                     ...      ...   ...        ...      ...      ...  \n",
              "4426                  123.0  0.99418  3.22       0.49      9.9        6  \n",
              "466                   141.0  0.99560  3.22       0.43      9.4        6  \n",
              "3092                  152.0  0.99129  3.02       0.53     11.4        6  \n",
              "3772                  134.0  0.99567  3.17       0.38     10.6        6  \n",
              "860                   103.0  0.99255  3.22       0.63     10.4        8  \n",
              "\n",
              "[2216 rows x 10 columns]"
            ],
            "text/html": [
              "\n",
              "  <div id=\"df-33bb2fd4-c438-444d-b84e-8f6b9a58e2d9\" class=\"colab-df-container\">\n",
              "    <div>\n",
              "<style scoped>\n",
              "    .dataframe tbody tr th:only-of-type {\n",
              "        vertical-align: middle;\n",
              "    }\n",
              "\n",
              "    .dataframe tbody tr th {\n",
              "        vertical-align: top;\n",
              "    }\n",
              "\n",
              "    .dataframe thead th {\n",
              "        text-align: right;\n",
              "    }\n",
              "</style>\n",
              "<table border=\"1\" class=\"dataframe\">\n",
              "  <thead>\n",
              "    <tr style=\"text-align: right;\">\n",
              "      <th></th>\n",
              "      <th>citric acid</th>\n",
              "      <th>residual sugar</th>\n",
              "      <th>chlorides</th>\n",
              "      <th>free sulfur dioxide</th>\n",
              "      <th>total sulfur dioxide</th>\n",
              "      <th>density</th>\n",
              "      <th>pH</th>\n",
              "      <th>sulphates</th>\n",
              "      <th>alcohol</th>\n",
              "      <th>quality</th>\n",
              "    </tr>\n",
              "    <tr>\n",
              "      <th>taste</th>\n",
              "      <th></th>\n",
              "      <th></th>\n",
              "      <th></th>\n",
              "      <th></th>\n",
              "      <th></th>\n",
              "      <th></th>\n",
              "      <th></th>\n",
              "      <th></th>\n",
              "      <th></th>\n",
              "      <th></th>\n",
              "    </tr>\n",
              "  </thead>\n",
              "  <tbody>\n",
              "    <tr>\n",
              "      <th>3167</th>\n",
              "      <td>0.40</td>\n",
              "      <td>6.1</td>\n",
              "      <td>0.034</td>\n",
              "      <td>36.0</td>\n",
              "      <td>118.0</td>\n",
              "      <td>0.99144</td>\n",
              "      <td>3.21</td>\n",
              "      <td>0.43</td>\n",
              "      <td>12.1</td>\n",
              "      <td>7</td>\n",
              "    </tr>\n",
              "    <tr>\n",
              "      <th>324</th>\n",
              "      <td>0.51</td>\n",
              "      <td>2.0</td>\n",
              "      <td>0.046</td>\n",
              "      <td>11.0</td>\n",
              "      <td>207.0</td>\n",
              "      <td>0.99300</td>\n",
              "      <td>3.02</td>\n",
              "      <td>0.55</td>\n",
              "      <td>11.4</td>\n",
              "      <td>5</td>\n",
              "    </tr>\n",
              "    <tr>\n",
              "      <th>4731</th>\n",
              "      <td>0.38</td>\n",
              "      <td>10.5</td>\n",
              "      <td>0.031</td>\n",
              "      <td>53.0</td>\n",
              "      <td>140.0</td>\n",
              "      <td>0.99321</td>\n",
              "      <td>3.34</td>\n",
              "      <td>0.46</td>\n",
              "      <td>11.7</td>\n",
              "      <td>6</td>\n",
              "    </tr>\n",
              "    <tr>\n",
              "      <th>2305</th>\n",
              "      <td>0.30</td>\n",
              "      <td>5.0</td>\n",
              "      <td>0.040</td>\n",
              "      <td>40.0</td>\n",
              "      <td>143.0</td>\n",
              "      <td>0.99173</td>\n",
              "      <td>3.33</td>\n",
              "      <td>0.42</td>\n",
              "      <td>12.2</td>\n",
              "      <td>7</td>\n",
              "    </tr>\n",
              "    <tr>\n",
              "      <th>1777</th>\n",
              "      <td>0.26</td>\n",
              "      <td>1.4</td>\n",
              "      <td>0.041</td>\n",
              "      <td>40.0</td>\n",
              "      <td>141.0</td>\n",
              "      <td>0.99410</td>\n",
              "      <td>3.34</td>\n",
              "      <td>0.72</td>\n",
              "      <td>9.5</td>\n",
              "      <td>6</td>\n",
              "    </tr>\n",
              "    <tr>\n",
              "      <th>...</th>\n",
              "      <td>...</td>\n",
              "      <td>...</td>\n",
              "      <td>...</td>\n",
              "      <td>...</td>\n",
              "      <td>...</td>\n",
              "      <td>...</td>\n",
              "      <td>...</td>\n",
              "      <td>...</td>\n",
              "      <td>...</td>\n",
              "      <td>...</td>\n",
              "    </tr>\n",
              "    <tr>\n",
              "      <th>4426</th>\n",
              "      <td>0.52</td>\n",
              "      <td>6.5</td>\n",
              "      <td>0.047</td>\n",
              "      <td>28.0</td>\n",
              "      <td>123.0</td>\n",
              "      <td>0.99418</td>\n",
              "      <td>3.22</td>\n",
              "      <td>0.49</td>\n",
              "      <td>9.9</td>\n",
              "      <td>6</td>\n",
              "    </tr>\n",
              "    <tr>\n",
              "      <th>466</th>\n",
              "      <td>0.32</td>\n",
              "      <td>9.0</td>\n",
              "      <td>0.039</td>\n",
              "      <td>54.0</td>\n",
              "      <td>141.0</td>\n",
              "      <td>0.99560</td>\n",
              "      <td>3.22</td>\n",
              "      <td>0.43</td>\n",
              "      <td>9.4</td>\n",
              "      <td>6</td>\n",
              "    </tr>\n",
              "    <tr>\n",
              "      <th>3092</th>\n",
              "      <td>0.52</td>\n",
              "      <td>3.2</td>\n",
              "      <td>0.043</td>\n",
              "      <td>28.0</td>\n",
              "      <td>152.0</td>\n",
              "      <td>0.99129</td>\n",
              "      <td>3.02</td>\n",
              "      <td>0.53</td>\n",
              "      <td>11.4</td>\n",
              "      <td>6</td>\n",
              "    </tr>\n",
              "    <tr>\n",
              "      <th>3772</th>\n",
              "      <td>0.29</td>\n",
              "      <td>13.7</td>\n",
              "      <td>0.035</td>\n",
              "      <td>53.0</td>\n",
              "      <td>134.0</td>\n",
              "      <td>0.99567</td>\n",
              "      <td>3.17</td>\n",
              "      <td>0.38</td>\n",
              "      <td>10.6</td>\n",
              "      <td>6</td>\n",
              "    </tr>\n",
              "    <tr>\n",
              "      <th>860</th>\n",
              "      <td>0.35</td>\n",
              "      <td>1.7</td>\n",
              "      <td>0.030</td>\n",
              "      <td>38.0</td>\n",
              "      <td>103.0</td>\n",
              "      <td>0.99255</td>\n",
              "      <td>3.22</td>\n",
              "      <td>0.63</td>\n",
              "      <td>10.4</td>\n",
              "      <td>8</td>\n",
              "    </tr>\n",
              "  </tbody>\n",
              "</table>\n",
              "<p>2216 rows × 10 columns</p>\n",
              "</div>\n",
              "    <div class=\"colab-df-buttons\">\n",
              "\n",
              "  <div class=\"colab-df-container\">\n",
              "    <button class=\"colab-df-convert\" onclick=\"convertToInteractive('df-33bb2fd4-c438-444d-b84e-8f6b9a58e2d9')\"\n",
              "            title=\"Convert this dataframe to an interactive table.\"\n",
              "            style=\"display:none;\">\n",
              "\n",
              "  <svg xmlns=\"http://www.w3.org/2000/svg\" height=\"24px\" viewBox=\"0 -960 960 960\">\n",
              "    <path d=\"M120-120v-720h720v720H120Zm60-500h600v-160H180v160Zm220 220h160v-160H400v160Zm0 220h160v-160H400v160ZM180-400h160v-160H180v160Zm440 0h160v-160H620v160ZM180-180h160v-160H180v160Zm440 0h160v-160H620v160Z\"/>\n",
              "  </svg>\n",
              "    </button>\n",
              "\n",
              "  <style>\n",
              "    .colab-df-container {\n",
              "      display:flex;\n",
              "      gap: 12px;\n",
              "    }\n",
              "\n",
              "    .colab-df-convert {\n",
              "      background-color: #E8F0FE;\n",
              "      border: none;\n",
              "      border-radius: 50%;\n",
              "      cursor: pointer;\n",
              "      display: none;\n",
              "      fill: #1967D2;\n",
              "      height: 32px;\n",
              "      padding: 0 0 0 0;\n",
              "      width: 32px;\n",
              "    }\n",
              "\n",
              "    .colab-df-convert:hover {\n",
              "      background-color: #E2EBFA;\n",
              "      box-shadow: 0px 1px 2px rgba(60, 64, 67, 0.3), 0px 1px 3px 1px rgba(60, 64, 67, 0.15);\n",
              "      fill: #174EA6;\n",
              "    }\n",
              "\n",
              "    .colab-df-buttons div {\n",
              "      margin-bottom: 4px;\n",
              "    }\n",
              "\n",
              "    [theme=dark] .colab-df-convert {\n",
              "      background-color: #3B4455;\n",
              "      fill: #D2E3FC;\n",
              "    }\n",
              "\n",
              "    [theme=dark] .colab-df-convert:hover {\n",
              "      background-color: #434B5C;\n",
              "      box-shadow: 0px 1px 3px 1px rgba(0, 0, 0, 0.15);\n",
              "      filter: drop-shadow(0px 1px 2px rgba(0, 0, 0, 0.3));\n",
              "      fill: #FFFFFF;\n",
              "    }\n",
              "  </style>\n",
              "\n",
              "    <script>\n",
              "      const buttonEl =\n",
              "        document.querySelector('#df-33bb2fd4-c438-444d-b84e-8f6b9a58e2d9 button.colab-df-convert');\n",
              "      buttonEl.style.display =\n",
              "        google.colab.kernel.accessAllowed ? 'block' : 'none';\n",
              "\n",
              "      async function convertToInteractive(key) {\n",
              "        const element = document.querySelector('#df-33bb2fd4-c438-444d-b84e-8f6b9a58e2d9');\n",
              "        const dataTable =\n",
              "          await google.colab.kernel.invokeFunction('convertToInteractive',\n",
              "                                                    [key], {});\n",
              "        if (!dataTable) return;\n",
              "\n",
              "        const docLinkHtml = 'Like what you see? Visit the ' +\n",
              "          '<a target=\"_blank\" href=https://colab.research.google.com/notebooks/data_table.ipynb>data table notebook</a>'\n",
              "          + ' to learn more about interactive tables.';\n",
              "        element.innerHTML = '';\n",
              "        dataTable['output_type'] = 'display_data';\n",
              "        await google.colab.output.renderOutput(dataTable, element);\n",
              "        const docLink = document.createElement('div');\n",
              "        docLink.innerHTML = docLinkHtml;\n",
              "        element.appendChild(docLink);\n",
              "      }\n",
              "    </script>\n",
              "  </div>\n",
              "\n",
              "\n",
              "    <div id=\"df-a2f38347-c147-4f10-b11b-1ade2b5fa177\">\n",
              "      <button class=\"colab-df-quickchart\" onclick=\"quickchart('df-a2f38347-c147-4f10-b11b-1ade2b5fa177')\"\n",
              "                title=\"Suggest charts\"\n",
              "                style=\"display:none;\">\n",
              "\n",
              "<svg xmlns=\"http://www.w3.org/2000/svg\" height=\"24px\"viewBox=\"0 0 24 24\"\n",
              "     width=\"24px\">\n",
              "    <g>\n",
              "        <path d=\"M19 3H5c-1.1 0-2 .9-2 2v14c0 1.1.9 2 2 2h14c1.1 0 2-.9 2-2V5c0-1.1-.9-2-2-2zM9 17H7v-7h2v7zm4 0h-2V7h2v10zm4 0h-2v-4h2v4z\"/>\n",
              "    </g>\n",
              "</svg>\n",
              "      </button>\n",
              "\n",
              "<style>\n",
              "  .colab-df-quickchart {\n",
              "      --bg-color: #E8F0FE;\n",
              "      --fill-color: #1967D2;\n",
              "      --hover-bg-color: #E2EBFA;\n",
              "      --hover-fill-color: #174EA6;\n",
              "      --disabled-fill-color: #AAA;\n",
              "      --disabled-bg-color: #DDD;\n",
              "  }\n",
              "\n",
              "  [theme=dark] .colab-df-quickchart {\n",
              "      --bg-color: #3B4455;\n",
              "      --fill-color: #D2E3FC;\n",
              "      --hover-bg-color: #434B5C;\n",
              "      --hover-fill-color: #FFFFFF;\n",
              "      --disabled-bg-color: #3B4455;\n",
              "      --disabled-fill-color: #666;\n",
              "  }\n",
              "\n",
              "  .colab-df-quickchart {\n",
              "    background-color: var(--bg-color);\n",
              "    border: none;\n",
              "    border-radius: 50%;\n",
              "    cursor: pointer;\n",
              "    display: none;\n",
              "    fill: var(--fill-color);\n",
              "    height: 32px;\n",
              "    padding: 0;\n",
              "    width: 32px;\n",
              "  }\n",
              "\n",
              "  .colab-df-quickchart:hover {\n",
              "    background-color: var(--hover-bg-color);\n",
              "    box-shadow: 0 1px 2px rgba(60, 64, 67, 0.3), 0 1px 3px 1px rgba(60, 64, 67, 0.15);\n",
              "    fill: var(--button-hover-fill-color);\n",
              "  }\n",
              "\n",
              "  .colab-df-quickchart-complete:disabled,\n",
              "  .colab-df-quickchart-complete:disabled:hover {\n",
              "    background-color: var(--disabled-bg-color);\n",
              "    fill: var(--disabled-fill-color);\n",
              "    box-shadow: none;\n",
              "  }\n",
              "\n",
              "  .colab-df-spinner {\n",
              "    border: 2px solid var(--fill-color);\n",
              "    border-color: transparent;\n",
              "    border-bottom-color: var(--fill-color);\n",
              "    animation:\n",
              "      spin 1s steps(1) infinite;\n",
              "  }\n",
              "\n",
              "  @keyframes spin {\n",
              "    0% {\n",
              "      border-color: transparent;\n",
              "      border-bottom-color: var(--fill-color);\n",
              "      border-left-color: var(--fill-color);\n",
              "    }\n",
              "    20% {\n",
              "      border-color: transparent;\n",
              "      border-left-color: var(--fill-color);\n",
              "      border-top-color: var(--fill-color);\n",
              "    }\n",
              "    30% {\n",
              "      border-color: transparent;\n",
              "      border-left-color: var(--fill-color);\n",
              "      border-top-color: var(--fill-color);\n",
              "      border-right-color: var(--fill-color);\n",
              "    }\n",
              "    40% {\n",
              "      border-color: transparent;\n",
              "      border-right-color: var(--fill-color);\n",
              "      border-top-color: var(--fill-color);\n",
              "    }\n",
              "    60% {\n",
              "      border-color: transparent;\n",
              "      border-right-color: var(--fill-color);\n",
              "    }\n",
              "    80% {\n",
              "      border-color: transparent;\n",
              "      border-right-color: var(--fill-color);\n",
              "      border-bottom-color: var(--fill-color);\n",
              "    }\n",
              "    90% {\n",
              "      border-color: transparent;\n",
              "      border-bottom-color: var(--fill-color);\n",
              "    }\n",
              "  }\n",
              "</style>\n",
              "\n",
              "      <script>\n",
              "        async function quickchart(key) {\n",
              "          const quickchartButtonEl =\n",
              "            document.querySelector('#' + key + ' button');\n",
              "          quickchartButtonEl.disabled = true;  // To prevent multiple clicks.\n",
              "          quickchartButtonEl.classList.add('colab-df-spinner');\n",
              "          try {\n",
              "            const charts = await google.colab.kernel.invokeFunction(\n",
              "                'suggestCharts', [key], {});\n",
              "          } catch (error) {\n",
              "            console.error('Error during call to suggestCharts:', error);\n",
              "          }\n",
              "          quickchartButtonEl.classList.remove('colab-df-spinner');\n",
              "          quickchartButtonEl.classList.add('colab-df-quickchart-complete');\n",
              "        }\n",
              "        (() => {\n",
              "          let quickchartButtonEl =\n",
              "            document.querySelector('#df-a2f38347-c147-4f10-b11b-1ade2b5fa177 button');\n",
              "          quickchartButtonEl.style.display =\n",
              "            google.colab.kernel.accessAllowed ? 'block' : 'none';\n",
              "        })();\n",
              "      </script>\n",
              "    </div>\n",
              "\n",
              "  <div id=\"id_c97470c3-71b4-4e7f-82aa-21e669b83f2c\">\n",
              "    <style>\n",
              "      .colab-df-generate {\n",
              "        background-color: #E8F0FE;\n",
              "        border: none;\n",
              "        border-radius: 50%;\n",
              "        cursor: pointer;\n",
              "        display: none;\n",
              "        fill: #1967D2;\n",
              "        height: 32px;\n",
              "        padding: 0 0 0 0;\n",
              "        width: 32px;\n",
              "      }\n",
              "\n",
              "      .colab-df-generate:hover {\n",
              "        background-color: #E2EBFA;\n",
              "        box-shadow: 0px 1px 2px rgba(60, 64, 67, 0.3), 0px 1px 3px 1px rgba(60, 64, 67, 0.15);\n",
              "        fill: #174EA6;\n",
              "      }\n",
              "\n",
              "      [theme=dark] .colab-df-generate {\n",
              "        background-color: #3B4455;\n",
              "        fill: #D2E3FC;\n",
              "      }\n",
              "\n",
              "      [theme=dark] .colab-df-generate:hover {\n",
              "        background-color: #434B5C;\n",
              "        box-shadow: 0px 1px 3px 1px rgba(0, 0, 0, 0.15);\n",
              "        filter: drop-shadow(0px 1px 2px rgba(0, 0, 0, 0.3));\n",
              "        fill: #FFFFFF;\n",
              "      }\n",
              "    </style>\n",
              "    <button class=\"colab-df-generate\" onclick=\"generateWithVariable('filas_filtradas')\"\n",
              "            title=\"Generate code using this dataframe.\"\n",
              "            style=\"display:none;\">\n",
              "\n",
              "  <svg xmlns=\"http://www.w3.org/2000/svg\" height=\"24px\"viewBox=\"0 0 24 24\"\n",
              "       width=\"24px\">\n",
              "    <path d=\"M7,19H8.4L18.45,9,17,7.55,7,17.6ZM5,21V16.75L18.45,3.32a2,2,0,0,1,2.83,0l1.4,1.43a1.91,1.91,0,0,1,.58,1.4,1.91,1.91,0,0,1-.58,1.4L9.25,21ZM18.45,9,17,7.55Zm-12,3A5.31,5.31,0,0,0,4.9,8.1,5.31,5.31,0,0,0,1,6.5,5.31,5.31,0,0,0,4.9,4.9,5.31,5.31,0,0,0,6.5,1,5.31,5.31,0,0,0,8.1,4.9,5.31,5.31,0,0,0,12,6.5,5.46,5.46,0,0,0,6.5,12Z\"/>\n",
              "  </svg>\n",
              "    </button>\n",
              "    <script>\n",
              "      (() => {\n",
              "      const buttonEl =\n",
              "        document.querySelector('#id_c97470c3-71b4-4e7f-82aa-21e669b83f2c button.colab-df-generate');\n",
              "      buttonEl.style.display =\n",
              "        google.colab.kernel.accessAllowed ? 'block' : 'none';\n",
              "\n",
              "      buttonEl.onclick = () => {\n",
              "        google.colab.notebook.generateWithVariable('filas_filtradas');\n",
              "      }\n",
              "      })();\n",
              "    </script>\n",
              "  </div>\n",
              "\n",
              "    </div>\n",
              "  </div>\n"
            ],
            "application/vnd.google.colaboratory.intrinsic+json": {
              "type": "dataframe",
              "variable_name": "filas_filtradas",
              "summary": "{\n  \"name\": \"filas_filtradas\",\n  \"rows\": 2216,\n  \"fields\": [\n    {\n      \"column\": \"taste\",\n      \"properties\": {\n        \"dtype\": \"number\",\n        \"std\": 1413,\n        \"min\": 1,\n        \"max\": 4892,\n        \"num_unique_values\": 2216,\n        \"samples\": [\n          2799,\n          4691,\n          1559\n        ],\n        \"semantic_type\": \"\",\n        \"description\": \"\"\n      }\n    },\n    {\n      \"column\": \"citric acid\",\n      \"properties\": {\n        \"dtype\": \"number\",\n        \"std\": 0.1242092192916274,\n        \"min\": 0.0,\n        \"max\": 1.66,\n        \"num_unique_values\": 80,\n        \"samples\": [\n          0.43,\n          0.4,\n          0.55\n        ],\n        \"semantic_type\": \"\",\n        \"description\": \"\"\n      }\n    },\n    {\n      \"column\": \"residual sugar\",\n      \"properties\": {\n        \"dtype\": \"number\",\n        \"std\": 5.234432481675185,\n        \"min\": 0.6,\n        \"max\": 65.8,\n        \"num_unique_values\": 259,\n        \"samples\": [\n          1.9,\n          17.9,\n          3.4\n        ],\n        \"semantic_type\": \"\",\n        \"description\": \"\"\n      }\n    },\n    {\n      \"column\": \"chlorides\",\n      \"properties\": {\n        \"dtype\": \"number\",\n        \"std\": 0.021605989501576852,\n        \"min\": 0.012,\n        \"max\": 0.346,\n        \"num_unique_values\": 120,\n        \"samples\": [\n          0.062,\n          0.069,\n          0.041\n        ],\n        \"semantic_type\": \"\",\n        \"description\": \"\"\n      }\n    },\n    {\n      \"column\": \"free sulfur dioxide\",\n      \"properties\": {\n        \"dtype\": \"number\",\n        \"std\": 16.830262900658408,\n        \"min\": 3.0,\n        \"max\": 146.5,\n        \"num_unique_values\": 105,\n        \"samples\": [\n          6.0,\n          96.0,\n          71.0\n        ],\n        \"semantic_type\": \"\",\n        \"description\": \"\"\n      }\n    },\n    {\n      \"column\": \"total sulfur dioxide\",\n      \"properties\": {\n        \"dtype\": \"number\",\n        \"std\": 41.89211802909793,\n        \"min\": 18.0,\n        \"max\": 307.5,\n        \"num_unique_values\": 227,\n        \"samples\": [\n          87.0,\n          213.0,\n          191.0\n        ],\n        \"semantic_type\": \"\",\n        \"description\": \"\"\n      }\n    },\n    {\n      \"column\": \"density\",\n      \"properties\": {\n        \"dtype\": \"number\",\n        \"std\": 0.003098055732325307,\n        \"min\": 0.98742,\n        \"max\": 1.03898,\n        \"num_unique_values\": 674,\n        \"samples\": [\n          0.99845,\n          0.99105,\n          0.99341\n        ],\n        \"semantic_type\": \"\",\n        \"description\": \"\"\n      }\n    },\n    {\n      \"column\": \"pH\",\n      \"properties\": {\n        \"dtype\": \"number\",\n        \"std\": 0.14991351439972206,\n        \"min\": 2.77,\n        \"max\": 3.82,\n        \"num_unique_values\": 91,\n        \"samples\": [\n          3.47,\n          2.99,\n          2.97\n        ],\n        \"semantic_type\": \"\",\n        \"description\": \"\"\n      }\n    },\n    {\n      \"column\": \"sulphates\",\n      \"properties\": {\n        \"dtype\": \"number\",\n        \"std\": 0.11463846489918603,\n        \"min\": 0.22,\n        \"max\": 1.06,\n        \"num_unique_values\": 69,\n        \"samples\": [\n          0.58,\n          0.43,\n          0.76\n        ],\n        \"semantic_type\": \"\",\n        \"description\": \"\"\n      }\n    },\n    {\n      \"column\": \"alcohol\",\n      \"properties\": {\n        \"dtype\": \"number\",\n        \"std\": 1.232414286391647,\n        \"min\": 8.0,\n        \"max\": 14.05,\n        \"num_unique_values\": 82,\n        \"samples\": [\n          10.2,\n          12.1,\n          9.7\n        ],\n        \"semantic_type\": \"\",\n        \"description\": \"\"\n      }\n    },\n    {\n      \"column\": \"quality\",\n      \"properties\": {\n        \"dtype\": \"number\",\n        \"std\": 0,\n        \"min\": 3,\n        \"max\": 9,\n        \"num_unique_values\": 7,\n        \"samples\": [\n          7,\n          5,\n          3\n        ],\n        \"semantic_type\": \"\",\n        \"description\": \"\"\n      }\n    }\n  ]\n}"
            }
          },
          "metadata": {},
          "execution_count": 18
        }
      ]
    }
  ]
}