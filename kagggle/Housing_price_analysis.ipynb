{
  "cells": [
    {
      "cell_type": "code",
      "execution_count": null,
      "metadata": {
        "id": "ulfX7mtAxzlV"
      },
      "outputs": [],
      "source": [
        "# IMPORTANT: RUN THIS CELL IN ORDER TO IMPORT YOUR KAGGLE DATA SOURCES,\n",
        "# THEN FEEL FREE TO DELETE THIS CELL.\n",
        "# NOTE: THIS NOTEBOOK ENVIRONMENT DIFFERS FROM KAGGLE'S PYTHON\n",
        "# ENVIRONMENT SO THERE MAY BE MISSING LIBRARIES USED BY YOUR\n",
        "# NOTEBOOK.\n",
        "import kagglehub\n",
        "harishkumardatalab_housing_price_prediction_path = kagglehub.dataset_download('harishkumardatalab/housing-price-prediction')\n",
        "\n",
        "print('Data source import complete.')\n"
      ]
    },
    {
      "cell_type": "markdown",
      "metadata": {
        "id": "B95pmMCMxzlW"
      },
      "source": [
        "# Housing Price Prediction\n",
        "The data set which I am using is the housing-price-prediction.\n",
        "This data set consists of vast feautures one should look into while buying house.\n",
        "The data set consists of 13 columns namely:\n",
        "1. Price: A numerical value which consists of price of the house\n",
        "2. Area: A numerical value of the total carpet area of the house\n",
        "3. Bedrooms : A numerical value which consists of the total number of bedrooms in the house\n",
        "4. Bathrooms : A numerical value which consists of the total number of bathrooms in the house\n",
        "5. Stories : A numerical value which tells the total no of floors of the building\n",
        "6. Mainroad : A boolean value which gives the idea is the house near to mainroad\n",
        "7. Guestroom : A boolean value which tells whether the house consists of a guest room or not\n",
        "8. Basement: A boolean value which tells that whether the house has a basement or not\n",
        "9. House Water Heating: A boolean value which tells about the hot water supply in the house\n",
        "10. Air conditioning : A boolean value which tells is the house provided with air conditioning or not\n",
        "11. Parking: A numerical value which tells the no of parking spaces available for the house\n",
        "12. Prefarea: A boolean value which tells the house is located in a preffered Area or not\n",
        "13. furnishingstatus: A string value (furnished/semi - furnished/unfurnished) to know about the furnishing status of the house"
      ]
    },
    {
      "cell_type": "markdown",
      "metadata": {
        "id": "ERoR6Hc_xzlY"
      },
      "source": [
        "# Libraries required\n",
        "1. numpy for numerical operations\n",
        "2. pandas for data storage and data manipulation\n",
        "3. seaborn as an extension for matplotlib for plotting graphs\n",
        "4. matplotlib for plotting graphs"
      ]
    },
    {
      "cell_type": "code",
      "execution_count": null,
      "metadata": {
        "_cell_guid": "b1076dfc-b9ad-4769-8c92-a6c4dae69d19",
        "_uuid": "8f2839f25d086af736a60e9eeb907d3b93b6e0e5",
        "execution": {
          "iopub.execute_input": "2025-06-30T08:41:58.642848Z",
          "iopub.status.busy": "2025-06-30T08:41:58.642548Z",
          "iopub.status.idle": "2025-06-30T08:41:59.931162Z",
          "shell.execute_reply": "2025-06-30T08:41:59.930294Z",
          "shell.execute_reply.started": "2025-06-30T08:41:58.642823Z"
        },
        "id": "OWWibKRqxzlZ",
        "trusted": true
      },
      "outputs": [],
      "source": [
        "import numpy as np\n",
        "import pandas as pd\n",
        "import seaborn as sns\n",
        "import matplotlib.pyplot as plt"
      ]
    },
    {
      "cell_type": "markdown",
      "metadata": {
        "id": "8DIZ9Q0qxzlZ"
      },
      "source": [
        "# 📁 Carga Robusta de Datos\n",
        "\n",
        "Convertimos el archivo CSV a un DataFrame de pandas usando una función que busca en múltiples ubicaciones posibles para mayor flexibilidad y manejo de errores.\n",
        "\n",
        "**📝 Nota importante**: Si planeas usar la descarga de Kaggle, ejecuta primero la celda 1 para descargar el dataset y definir la variable de ruta."
      ]
    },
    {
      "cell_type": "code",
      "execution_count": 7,
      "metadata": {
        "execution": {
          "iopub.execute_input": "2025-06-30T08:41:59.933224Z",
          "iopub.status.busy": "2025-06-30T08:41:59.932721Z",
          "iopub.status.idle": "2025-06-30T08:41:59.977804Z",
          "shell.execute_reply": "2025-06-30T08:41:59.976993Z",
          "shell.execute_reply.started": "2025-06-30T08:41:59.933177Z"
        },
        "id": "wTzG1IANxzlZ",
        "trusted": true
      },
      "outputs": [
        {
          "name": "stdout",
          "output_type": "stream",
          "text": [
            "✅ Datos cargados desde: C:\\Users\\Dell\\PyhtonIA\\Pandas_Python_IA\\kagggle\\Housing.csv\n",
            "\n",
            "📊 Dimensiones del dataset: (545, 13)\n",
            "📋 Columnas: ['price', 'area', 'bedrooms', 'bathrooms', 'stories', 'mainroad', 'guestroom', 'basement', 'hotwaterheating', 'airconditioning', 'parking', 'prefarea', 'furnishingstatus']\n"
          ]
        }
      ],
      "source": [
        "import pandas as pd\n",
        "import os\n",
        "\n",
        "# Función para cargar datos desde diferentes ubicaciones posibles\n",
        "def cargar_datos_housing():\n",
        "    \"\"\"\n",
        "    Función para cargar datos de housing desde diferentes ubicaciones\n",
        "    \"\"\"\n",
        "    rutas_posibles = [\n",
        "        r\"C:\\Users\\Dell\\PyhtonIA\\Pandas_Python_IA\\kagggle\\Housing.csv\",\n",
        "        r\"C:\\Users\\Dell\\PyhtonIA\\Pandas_Python_IA\\kaggle\\Housing.csv\", \n",
        "        \"Housing.csv\"\n",
        "    ]\n",
        "    \n",
        "    # Intentar agregar la ruta de Kaggle si está disponible\n",
        "    try:\n",
        "        if 'harishkumardatalab_housing_price_prediction_path' in globals():\n",
        "            kaggle_path = os.path.join(harishkumardatalab_housing_price_prediction_path, \"Housing.csv\")\n",
        "            rutas_posibles.append(kaggle_path)\n",
        "    except NameError:\n",
        "        pass  # Si no está definida, simplemente continuar\n",
        "    \n",
        "    # Intentar cargar desde las rutas conocidas\n",
        "    for ruta in rutas_posibles:\n",
        "        try:\n",
        "            if os.path.exists(ruta):\n",
        "                data = pd.read_csv(ruta)\n",
        "                print(f\"✅ Datos cargados desde: {ruta}\")\n",
        "                return data\n",
        "        except Exception as e:\n",
        "            print(f\"⚠️ Error al cargar desde {ruta}: {str(e)}\")\n",
        "            continue\n",
        "    \n",
        "    # Si no se encuentra, intentar descargar desde Kaggle automáticamente\n",
        "    print(\"🔄 Intentando descargar dataset desde Kaggle...\")\n",
        "    try:\n",
        "        import kagglehub\n",
        "        kaggle_path = kagglehub.dataset_download('harishkumardatalab/housing-price-prediction')\n",
        "        csv_path = os.path.join(kaggle_path, \"Housing.csv\")\n",
        "        \n",
        "        if os.path.exists(csv_path):\n",
        "            data = pd.read_csv(csv_path)\n",
        "            print(f\"✅ Datos descargados y cargados desde Kaggle: {csv_path}\")\n",
        "            # Guardar la variable global para uso futuro\n",
        "            globals()['harishkumardatalab_housing_price_prediction_path'] = kaggle_path\n",
        "            return data\n",
        "    except Exception as e:\n",
        "        print(f\"❌ Error al descargar desde Kaggle: {str(e)}\")\n",
        "    \n",
        "    print(\"❌ No se pudo cargar el archivo desde ninguna ubicación\")\n",
        "    print(\"💡 Asegúrate de que el archivo Housing.csv esté en alguna de estas ubicaciones:\")\n",
        "    for ruta in rutas_posibles:\n",
        "        print(f\"   • {ruta}\")\n",
        "    return None\n",
        "\n",
        "# Cargar los datos\n",
        "data = cargar_datos_housing()\n",
        "\n",
        "# Mostrar primeras filas si la carga fue exitosa\n",
        "if data is not None:\n",
        "    print(f\"\\n📊 Dimensiones del dataset: {data.shape}\")\n",
        "    print(f\"📋 Columnas: {list(data.columns)}\")\n",
        "    data.head()\n",
        "else:\n",
        "    print(\"❌ Error: No se pudieron cargar los datos\")"
      ]
    },
    {
      "cell_type": "markdown",
      "metadata": {
        "id": "45K546itxzla"
      },
      "source": [
        "# Basic Information"
      ]
    },
    {
      "cell_type": "code",
      "execution_count": null,
      "metadata": {
        "collapsed": true,
        "execution": {
          "iopub.execute_input": "2025-06-30T08:41:59.979176Z",
          "iopub.status.busy": "2025-06-30T08:41:59.978846Z",
          "iopub.status.idle": "2025-06-30T08:42:00.005514Z",
          "shell.execute_reply": "2025-06-30T08:42:00.004644Z",
          "shell.execute_reply.started": "2025-06-30T08:41:59.979146Z"
        },
        "id": "KBMObL9kxzla",
        "jupyter": {
          "outputs_hidden": true
        },
        "trusted": true
      },
      "outputs": [],
      "source": [
        "data.info()"
      ]
    },
    {
      "cell_type": "markdown",
      "metadata": {
        "id": "k0YIcUf6xzlb"
      },
      "source": [
        "## 🔎 Insight:\n",
        "* The total entries are 545(no of rows)\n",
        "* There are total 13 no of feautures"
      ]
    },
    {
      "cell_type": "code",
      "execution_count": null,
      "metadata": {
        "execution": {
          "iopub.execute_input": "2025-06-30T08:42:00.008195Z",
          "iopub.status.busy": "2025-06-30T08:42:00.007591Z",
          "iopub.status.idle": "2025-06-30T08:42:00.044311Z",
          "shell.execute_reply": "2025-06-30T08:42:00.04337Z",
          "shell.execute_reply.started": "2025-06-30T08:42:00.008156Z"
        },
        "id": "qQoilbpXxzlc",
        "trusted": true
      },
      "outputs": [],
      "source": [
        "data.describe(include = \"object\")"
      ]
    },
    {
      "cell_type": "code",
      "execution_count": null,
      "metadata": {
        "execution": {
          "iopub.execute_input": "2025-06-30T08:42:00.045634Z",
          "iopub.status.busy": "2025-06-30T08:42:00.045311Z",
          "iopub.status.idle": "2025-06-30T08:42:00.05455Z",
          "shell.execute_reply": "2025-06-30T08:42:00.053574Z",
          "shell.execute_reply.started": "2025-06-30T08:42:00.045604Z"
        },
        "id": "NaurjjTUxzlc",
        "trusted": true
      },
      "outputs": [],
      "source": [
        "data.isnull().sum().sort_values(ascending=False)"
      ]
    },
    {
      "cell_type": "markdown",
      "metadata": {
        "id": "YBl-PcbJxzlc"
      },
      "source": [
        "# Univariate analysis\n",
        "\n",
        "Analysing one variable at a time"
      ]
    },
    {
      "cell_type": "code",
      "execution_count": null,
      "metadata": {
        "execution": {
          "iopub.execute_input": "2025-06-30T08:42:00.05614Z",
          "iopub.status.busy": "2025-06-30T08:42:00.055743Z",
          "iopub.status.idle": "2025-06-30T08:42:01.199319Z",
          "shell.execute_reply": "2025-06-30T08:42:01.198364Z",
          "shell.execute_reply.started": "2025-06-30T08:42:00.056107Z"
        },
        "id": "GyhpnawDxzlc",
        "trusted": true
      },
      "outputs": [],
      "source": [
        "feautures = ['mainroad', 'guestroom', 'basement', 'hotwaterheating', 'airconditioning', 'prefarea', 'furnishingstatus']\n",
        "numerical = ['area','bedrooms','bathrooms','stories','parking']\n",
        "\n",
        "for col in feautures:\n",
        "    sns.countplot(x=col, data=data, palette='pastel')\n",
        "    plt.title(f'Distribution of {col}')\n",
        "    plt.xticks(rotation=45)\n",
        "    plt.show()"
      ]
    },
    {
      "cell_type": "markdown",
      "metadata": {
        "id": "71ybGszdxzld"
      },
      "source": [
        "Insight:\n",
        "\n",
        "* Maximum houses are connected to main road.\n",
        "* Maximum houses do not have a guestroom.\n",
        "* Maximum houses do not have a basement.\n",
        "* Maximum houses do not have hot water heating facility.\n",
        "* Maximum houses do not have air conditioning facility.\n",
        "* Maximum houses are not situated in preferred area.\n",
        "* Maximum houses are semi-furnished."
      ]
    },
    {
      "cell_type": "code",
      "execution_count": null,
      "metadata": {
        "execution": {
          "iopub.execute_input": "2025-06-30T08:42:01.200592Z",
          "iopub.status.busy": "2025-06-30T08:42:01.200259Z",
          "iopub.status.idle": "2025-06-30T08:42:01.523132Z",
          "shell.execute_reply": "2025-06-30T08:42:01.522029Z",
          "shell.execute_reply.started": "2025-06-30T08:42:01.20056Z"
        },
        "id": "K_v88Xmtxzld",
        "trusted": true
      },
      "outputs": [],
      "source": [
        "sns.histplot(data['area'].dropna(),kde = True)\n",
        "plt.title('Area distribution')\n",
        "plt.show()"
      ]
    },
    {
      "cell_type": "code",
      "execution_count": null,
      "metadata": {
        "execution": {
          "iopub.execute_input": "2025-06-30T08:42:01.52444Z",
          "iopub.status.busy": "2025-06-30T08:42:01.524109Z",
          "iopub.status.idle": "2025-06-30T08:42:02.104054Z",
          "shell.execute_reply": "2025-06-30T08:42:02.103244Z",
          "shell.execute_reply.started": "2025-06-30T08:42:01.524409Z"
        },
        "id": "LoHOuzPQxzld",
        "trusted": true
      },
      "outputs": [],
      "source": [
        "for col in numerical:\n",
        "    if col != 'area':\n",
        "      sns.countplot(x=col, data=data, palette='pastel')\n",
        "      plt.title(f'Distribution of {col}')\n",
        "      plt.show()"
      ]
    },
    {
      "cell_type": "markdown",
      "metadata": {
        "id": "zx7-zEBcxzld"
      },
      "source": [
        "# Insights\n",
        "* Most of the houses lie in the range of 3000-7000 sq.ft\n",
        "* Most of the houses have 3 bedrooms\n",
        "* Most of the houses have 2 stories\n",
        "* Most of the houses have 1 bathroom\n",
        "* Most of the houses have no parking spaces"
      ]
    },
    {
      "cell_type": "markdown",
      "metadata": {
        "id": "qgS1-7jnxzle"
      },
      "source": [
        "# Bivariate analysis\n",
        "\n",
        "Analysing tha data using realtionship between two variables"
      ]
    },
    {
      "cell_type": "code",
      "execution_count": null,
      "metadata": {
        "execution": {
          "iopub.execute_input": "2025-06-30T08:42:02.10538Z",
          "iopub.status.busy": "2025-06-30T08:42:02.105147Z",
          "iopub.status.idle": "2025-06-30T08:42:02.473718Z",
          "shell.execute_reply": "2025-06-30T08:42:02.472755Z",
          "shell.execute_reply.started": "2025-06-30T08:42:02.105361Z"
        },
        "id": "bsZ14y7Oxzle",
        "trusted": true
      },
      "outputs": [],
      "source": [
        "sns.histplot(data['price'].dropna(), kde=True, bins=30)\n",
        "plt.title('Price Distribution')\n",
        "plt.xlabel('Price')\n",
        "plt.ylabel('Frequency')\n",
        "plt.show()"
      ]
    },
    {
      "cell_type": "code",
      "execution_count": null,
      "metadata": {
        "execution": {
          "iopub.execute_input": "2025-06-30T08:43:06.57271Z",
          "iopub.status.busy": "2025-06-30T08:43:06.572289Z",
          "iopub.status.idle": "2025-06-30T08:43:06.821075Z",
          "shell.execute_reply": "2025-06-30T08:43:06.820112Z",
          "shell.execute_reply.started": "2025-06-30T08:43:06.572676Z"
        },
        "id": "O0NumsNAxzle",
        "trusted": true
      },
      "outputs": [],
      "source": [
        "sns.scatterplot(x='area', y='price', data=data)\n",
        "plt.title('Area vs Price')\n",
        "plt.xlabel('Area (sq.ft)')\n",
        "plt.ylabel('Price')\n",
        "plt.show()"
      ]
    },
    {
      "cell_type": "markdown",
      "metadata": {
        "id": "mpfuZECdxzle"
      },
      "source": [
        "# Insights\n",
        "* Many houses are clustered in the cheap - moderate range\n",
        "* After that the pricesof the houses increase rapidly due the dependences of multiple features"
      ]
    },
    {
      "cell_type": "code",
      "execution_count": null,
      "metadata": {
        "execution": {
          "iopub.execute_input": "2025-06-30T08:44:53.566017Z",
          "iopub.status.busy": "2025-06-30T08:44:53.56573Z",
          "iopub.status.idle": "2025-06-30T08:44:53.746249Z",
          "shell.execute_reply": "2025-06-30T08:44:53.745235Z",
          "shell.execute_reply.started": "2025-06-30T08:44:53.565994Z"
        },
        "id": "NUNxR3Caxzle",
        "trusted": true
      },
      "outputs": [],
      "source": [
        "sns.countplot(x='parking',hue='mainroad',data = data, palette = 'pastel')\n",
        "plt.title('Parking vs main road')\n",
        "plt.show()"
      ]
    },
    {
      "cell_type": "markdown",
      "metadata": {
        "id": "B3GHEq87xzle"
      },
      "source": [
        "# Insights\n",
        "* Most of the houses irrespective of the location to the main road does not have parking spaces.\n",
        "* We can see clearly from the graph that more the houses are nearer to the main road more is the availibility of the parking spaces"
      ]
    },
    {
      "cell_type": "markdown",
      "metadata": {
        "id": "aBhWtWPqxzle"
      },
      "source": [
        "# Outlier Detection\n",
        "\n",
        "Using boxplots to detect Outliers"
      ]
    },
    {
      "cell_type": "code",
      "execution_count": null,
      "metadata": {
        "execution": {
          "iopub.execute_input": "2025-06-30T08:46:34.907102Z",
          "iopub.status.busy": "2025-06-30T08:46:34.906377Z",
          "iopub.status.idle": "2025-06-30T08:46:35.016857Z",
          "shell.execute_reply": "2025-06-30T08:46:35.015978Z",
          "shell.execute_reply.started": "2025-06-30T08:46:34.907061Z"
        },
        "id": "d1R7dge1xzlf",
        "trusted": true
      },
      "outputs": [],
      "source": [
        "plt.figure(figsize=(10, 6))\n",
        "sns.boxplot(x=data['price'])\n",
        "plt.title('Price Distribution - Outlier Detection')\n",
        "plt.xlabel('Price')\n",
        "plt.show()\n",
        "\n",
        "# Estadísticas de outliers\n",
        "Q1 = data['price'].quantile(0.25)\n",
        "Q3 = data['price'].quantile(0.75)\n",
        "IQR = Q3 - Q1\n",
        "lower_bound = Q1 - 1.5 * IQR\n",
        "upper_bound = Q3 + 1.5 * IQR\n",
        "outliers = data[(data['price'] < lower_bound) | (data['price'] > upper_bound)]\n",
        "print(f\"📊 Outliers en Price: {len(outliers)} de {len(data)} observaciones ({(len(outliers)/len(data)*100):.1f}%)\")"
      ]
    },
    {
      "cell_type": "code",
      "execution_count": null,
      "metadata": {
        "execution": {
          "iopub.execute_input": "2025-06-30T08:47:22.93398Z",
          "iopub.status.busy": "2025-06-30T08:47:22.933691Z",
          "iopub.status.idle": "2025-06-30T08:47:23.05912Z",
          "shell.execute_reply": "2025-06-30T08:47:23.058333Z",
          "shell.execute_reply.started": "2025-06-30T08:47:22.93396Z"
        },
        "id": "AKgvpnU2xzlf",
        "trusted": true
      },
      "outputs": [],
      "source": [
        "plt.figure(figsize=(10, 6))\n",
        "sns.boxplot(x=data['area'])\n",
        "plt.title('Area Distribution - Outlier Detection')\n",
        "plt.xlabel('Area (sq.ft)')\n",
        "plt.show()\n",
        "\n",
        "# Estadísticas de outliers\n",
        "Q1 = data['area'].quantile(0.25)\n",
        "Q3 = data['area'].quantile(0.75)\n",
        "IQR = Q3 - Q1\n",
        "lower_bound = Q1 - 1.5 * IQR\n",
        "upper_bound = Q3 + 1.5 * IQR\n",
        "outliers = data[(data['area'] < lower_bound) | (data['area'] > upper_bound)]\n",
        "print(f\"📊 Outliers en Area: {len(outliers)} de {len(data)} observaciones ({(len(outliers)/len(data)*100):.1f}%)\")"
      ]
    },
    {
      "cell_type": "markdown",
      "metadata": {
        "id": "G2GvM5eHxzlf"
      },
      "source": [
        "# Correlation Analysis\n",
        "\n",
        "Analysing the bond between two features"
      ]
    },
    {
      "cell_type": "code",
      "execution_count": null,
      "metadata": {
        "execution": {
          "iopub.execute_input": "2025-06-30T08:49:16.333375Z",
          "iopub.status.busy": "2025-06-30T08:49:16.332955Z",
          "iopub.status.idle": "2025-06-30T08:49:16.934095Z",
          "shell.execute_reply": "2025-06-30T08:49:16.933024Z",
          "shell.execute_reply.started": "2025-06-30T08:49:16.333339Z"
        },
        "id": "CJs9Ho8vxzlf",
        "trusted": true
      },
      "outputs": [],
      "source": [
        "copy = data.copy()\n",
        "\n",
        "# Binary mappings\n",
        "binary_cols = ['mainroad', 'guestroom', 'basement', 'hotwaterheating', 'airconditioning', 'prefarea']\n",
        "for col in binary_cols:\n",
        "    copy[col] = copy[col].map({'yes': 1, 'no': 0})\n",
        "\n",
        "# Map furnishing status\n",
        "copy['furnishingstatus'] = copy['furnishingstatus'].map({'furnished': 2, 'semi-furnished': 1, 'unfurnished': 0})\n",
        "\n",
        "sns.heatmap(copy.corr(numeric_only=True), annot=True, cmap='coolwarm', fmt=\".2f\")\n",
        "plt.title('Correlation Heatmap')\n",
        "plt.show()\n"
      ]
    },
    {
      "cell_type": "markdown",
      "metadata": {
        "id": "emrwgKMmxzlf"
      },
      "source": [
        "# Insights\n",
        "* Price shows a strong positive correlation with area (0.54), bathrooms (0.52), and air conditioning (0.45), while it has a noticeable negative correlation with the basement feature (-0.19).\n",
        "\n",
        "* Area is moderately linked to parking (0.35) and price (0.54), whereas the remaining variables exhibit generally weak interrelationships.\n",
        "\n",
        "* There are no strong negative correlations in the dataset—most associations are either weak or positively inclined, with the exception of the negative link between basement and price.\n"
      ]
    },
    {
      "cell_type": "markdown",
      "metadata": {
        "id": "ziXFz6M9xzlf"
      },
      "source": [
        "# Multivaraiate Analysis\n",
        "\n",
        "Analysing oone variable with multiple varaible at the same time"
      ]
    },
    {
      "cell_type": "code",
      "execution_count": null,
      "metadata": {
        "execution": {
          "iopub.execute_input": "2025-06-30T08:51:57.082141Z",
          "iopub.status.busy": "2025-06-30T08:51:57.081764Z",
          "iopub.status.idle": "2025-06-30T08:52:05.211832Z",
          "shell.execute_reply": "2025-06-30T08:52:05.210807Z",
          "shell.execute_reply.started": "2025-06-30T08:51:57.082115Z"
        },
        "id": "RqJcCHykxzlf",
        "trusted": true
      },
      "outputs": [],
      "source": [
        "features = [\"price\", \"area\", \"bedrooms\", \"bathrooms\", \"stories\", \"parking\"]\n",
        "sns.pairplot(data[features])\n",
        "plt.show()"
      ]
    },
    {
      "cell_type": "markdown",
      "metadata": {
        "id": "L6dCWWP4xzlg"
      },
      "source": [
        "# Conclusion\n",
        "* House prices are primarily influenced by the area, with secondary contributions from factors such as bathrooms, air conditioning, and parking.\n",
        "* The data reveals noticeable outliers in both price and area, while the majority of homes feature modest attributes like 2–4 bedrooms, 1–2 bathrooms, and limited parking.\n",
        "* Categorical variables exhibit weak correlations with price, emphasizing the greater impact of numeric features in determining a property's value.\n",
        "\n"
      ]
    }
  ],
  "metadata": {
    "colab": {
      "name": "Housing price analysis",
      "provenance": []
    },
    "kaggle": {
      "accelerator": "none",
      "dataSources": [
        {
          "datasetId": 3489360,
          "sourceId": 6092787,
          "sourceType": "datasetVersion"
        }
      ],
      "dockerImageVersionId": 31040,
      "isGpuEnabled": false,
      "isInternetEnabled": false,
      "language": "python",
      "sourceType": "notebook"
    },
    "kernelspec": {
      "display_name": ".venv",
      "language": "python",
      "name": "python3"
    },
    "language_info": {
      "codemirror_mode": {
        "name": "ipython",
        "version": 3
      },
      "file_extension": ".py",
      "mimetype": "text/x-python",
      "name": "python",
      "nbconvert_exporter": "python",
      "pygments_lexer": "ipython3",
      "version": "3.12.10"
    }
  },
  "nbformat": 4,
  "nbformat_minor": 0
}
