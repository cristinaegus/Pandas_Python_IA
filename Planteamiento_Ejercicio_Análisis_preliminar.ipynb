{
  "nbformat": 4,
  "nbformat_minor": 0,
  "metadata": {
    "colab": {
      "provenance": [],
      "include_colab_link": true
    },
    "kernelspec": {
      "name": "python3",
      "display_name": "Python 3"
    },
    "language_info": {
      "name": "python"
    }
  },
  "cells": [
    {
      "cell_type": "markdown",
      "metadata": {
        "id": "view-in-github",
        "colab_type": "text"
      },
      "source": [
        "<a href=\"https://colab.research.google.com/github/cristinaegus/Pandas_Python_IA/blob/main/Planteamiento_Ejercicio_An%C3%A1lisis_preliminar.ipynb\" target=\"_parent\"><img src=\"https://colab.research.google.com/assets/colab-badge.svg\" alt=\"Open In Colab\"/></a>"
      ]
    },
    {
      "cell_type": "markdown",
      "source": [
        "# Ejercicios Análisis Preliminar\n"
      ],
      "metadata": {
        "id": "N1TYzsZzdJVV"
      }
    },
    {
      "cell_type": "markdown",
      "source": [
        "## 1. Cargar los datos de trainmod."
      ],
      "metadata": {
        "id": "zZIExc-Z1tKy"
      }
    },
    {
      "cell_type": "code",
      "execution_count": 2,
      "metadata": {
        "id": "vW_vXpd6dIuI"
      },
      "outputs": [],
      "source": [
        "# Importamos las librerias necesarias\n",
        "import pandas as pd\n",
        "import numpy as np\n",
        "\n",
        "#1. Cargar los datos de trainmod (Los creados en el apartado anterior).\n",
        "df2 = pd.read_csv(\"/content/sample_data/trainmod.csv\",sep=\",\",encoding='latin-1')"
      ]
    },
    {
      "cell_type": "markdown",
      "source": [
        "## 2. Mostrar los datos.\n"
      ],
      "metadata": {
        "id": "kaoYfP4fdOQ9"
      }
    },
    {
      "cell_type": "markdown",
      "source": [
        "## 3. Realizar un resumen estadístico de los datos y realizar una interpretación.\n"
      ],
      "metadata": {
        "id": "4Sqr4XMHdRLJ"
      }
    },
    {
      "cell_type": "markdown",
      "source": [
        "## 4. Determinar las categorías existentes para la variable “Crisis”.\n"
      ],
      "metadata": {
        "id": "DHSZZMmCdULl"
      }
    },
    {
      "cell_type": "markdown",
      "source": [
        "## 5. Sustituir los “Si” por “Crisis” y los “No” por “Burbuja”.\n"
      ],
      "metadata": {
        "id": "cx3wOB8MdToP"
      }
    },
    {
      "cell_type": "markdown",
      "source": [
        "## 6. Determinar la clase de cada uno de los datos."
      ],
      "metadata": {
        "id": "OE5x5FgLdcol"
      }
    },
    {
      "cell_type": "markdown",
      "source": [
        "## 7. Realizar un gráfico del precio de venta."
      ],
      "metadata": {
        "id": "RGkBkS1pdcWs"
      }
    },
    {
      "cell_type": "markdown",
      "source": [
        "## 8. Realizar un histograma del precio de venta."
      ],
      "metadata": {
        "id": "-T9zhsA_dcFO"
      }
    },
    {
      "cell_type": "markdown",
      "source": [
        "## 9. Graficar el precio de venta en función de la variable MSZoning..\n"
      ],
      "metadata": {
        "id": "bVemGgSWdb1k"
      }
    },
    {
      "cell_type": "markdown",
      "source": [
        "## 10. Mostrar, gráficamente la relación entre el precio de venta y “GrLivArea”. ¿Cómo es?"
      ],
      "metadata": {
        "id": "Ede-htsRdbkI"
      }
    },
    {
      "cell_type": "markdown",
      "source": [
        "### ¿Y la relación con “LotArea”?."
      ],
      "metadata": {
        "id": "paKiVP32ZdkR"
      }
    },
    {
      "cell_type": "markdown",
      "source": [
        "## 11. Realizar un gráfico de la variable “MSZoning”."
      ],
      "metadata": {
        "id": "m-DC27TJda3s"
      }
    },
    {
      "cell_type": "markdown",
      "source": [
        "## 12. Seleccionar los datos numéricos."
      ],
      "metadata": {
        "id": "o6q4Mkqvd2NB"
      }
    },
    {
      "cell_type": "markdown",
      "source": [
        "## 13. Graficar todas las relaciones entre las variables.\n"
      ],
      "metadata": {
        "id": "wg7PoNUNd4as"
      }
    },
    {
      "cell_type": "markdown",
      "source": [
        "## 14. Crear un nuevo Data Frame con las 10 últimas variables.\n"
      ],
      "metadata": {
        "id": "b59l-OOFd6l5"
      }
    },
    {
      "cell_type": "markdown",
      "source": [
        "## 15. Analizar la relación de estas variables con dos gráficos diferentes.\n"
      ],
      "metadata": {
        "id": "Ez0i4FYqd8lZ"
      }
    },
    {
      "cell_type": "markdown",
      "source": [
        "## 16. Analizar la correlación entre las variables numéricas.\n"
      ],
      "metadata": {
        "id": "Ds0YiYIld-kE"
      }
    },
    {
      "cell_type": "markdown",
      "source": [
        "## 17. Eliminar los valores perdidos."
      ],
      "metadata": {
        "id": "sSCSqT34eAdG"
      }
    },
    {
      "cell_type": "markdown",
      "source": [
        "## 18. Guardar los datos."
      ],
      "metadata": {
        "id": "v-sdMGBeeFel"
      }
    }
  ]
}